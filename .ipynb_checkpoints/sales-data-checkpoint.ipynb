{
 "cells": [
  {
   "cell_type": "code",
   "execution_count": 40,
   "id": "f6228e9e",
   "metadata": {},
   "outputs": [],
   "source": [
    "import pandas as pd\n",
    "import matplotlib.pyplot as plt\n",
    "\n",
    "inv = pd.read_csv(\"fct_invoice.csv\")\n",
    "cus = pd.read_json(\"dim_customer.json\")"
   ]
  },
  {
   "cell_type": "code",
   "execution_count": 41,
   "id": "b4322014",
   "metadata": {
    "scrolled": true
   },
   "outputs": [
    {
     "data": {
      "text/html": [
       "<div>\n",
       "<style scoped>\n",
       "    .dataframe tbody tr th:only-of-type {\n",
       "        vertical-align: middle;\n",
       "    }\n",
       "\n",
       "    .dataframe tbody tr th {\n",
       "        vertical-align: top;\n",
       "    }\n",
       "\n",
       "    .dataframe thead th {\n",
       "        text-align: right;\n",
       "    }\n",
       "</style>\n",
       "<table border=\"1\" class=\"dataframe\">\n",
       "  <thead>\n",
       "    <tr style=\"text-align: right;\">\n",
       "      <th></th>\n",
       "      <th>invoice_no</th>\n",
       "      <th>customer_id</th>\n",
       "      <th>category</th>\n",
       "      <th>quantity</th>\n",
       "      <th>price</th>\n",
       "      <th>payment_method</th>\n",
       "      <th>invoice_date</th>\n",
       "      <th>shopping_mall</th>\n",
       "    </tr>\n",
       "  </thead>\n",
       "  <tbody>\n",
       "    <tr>\n",
       "      <th>0</th>\n",
       "      <td>I138884</td>\n",
       "      <td>229</td>\n",
       "      <td>Clothing</td>\n",
       "      <td>5</td>\n",
       "      <td>1500.40</td>\n",
       "      <td>Credit Card</td>\n",
       "      <td>5/8/2022</td>\n",
       "      <td>Kanyon</td>\n",
       "    </tr>\n",
       "    <tr>\n",
       "      <th>1</th>\n",
       "      <td>I317333</td>\n",
       "      <td>3433</td>\n",
       "      <td>Shoes</td>\n",
       "      <td>3</td>\n",
       "      <td>1800.51</td>\n",
       "      <td>Debit Card</td>\n",
       "      <td>12/12/2021</td>\n",
       "      <td>Forum Istanbul</td>\n",
       "    </tr>\n",
       "    <tr>\n",
       "      <th>2</th>\n",
       "      <td>I127801</td>\n",
       "      <td>644</td>\n",
       "      <td>Clothing</td>\n",
       "      <td>1</td>\n",
       "      <td>300.08</td>\n",
       "      <td>Cash</td>\n",
       "      <td>9/11/2021</td>\n",
       "      <td>Metrocity</td>\n",
       "    </tr>\n",
       "    <tr>\n",
       "      <th>3</th>\n",
       "      <td>I173702</td>\n",
       "      <td>4900</td>\n",
       "      <td>Shoes</td>\n",
       "      <td>5</td>\n",
       "      <td>3000.85</td>\n",
       "      <td>Credit Card</td>\n",
       "      <td>16/05/2021</td>\n",
       "      <td>Metropol AVM</td>\n",
       "    </tr>\n",
       "    <tr>\n",
       "      <th>4</th>\n",
       "      <td>I337046</td>\n",
       "      <td>1089</td>\n",
       "      <td>Books</td>\n",
       "      <td>4</td>\n",
       "      <td>60.60</td>\n",
       "      <td>Cash</td>\n",
       "      <td>24/10/2021</td>\n",
       "      <td>Kanyon</td>\n",
       "    </tr>\n",
       "    <tr>\n",
       "      <th>...</th>\n",
       "      <td>...</td>\n",
       "      <td>...</td>\n",
       "      <td>...</td>\n",
       "      <td>...</td>\n",
       "      <td>...</td>\n",
       "      <td>...</td>\n",
       "      <td>...</td>\n",
       "      <td>...</td>\n",
       "    </tr>\n",
       "    <tr>\n",
       "      <th>99452</th>\n",
       "      <td>I219422</td>\n",
       "      <td>2344</td>\n",
       "      <td>Souvenir</td>\n",
       "      <td>5</td>\n",
       "      <td>58.65</td>\n",
       "      <td>Credit Card</td>\n",
       "      <td>21/09/2022</td>\n",
       "      <td>Kanyon</td>\n",
       "    </tr>\n",
       "    <tr>\n",
       "      <th>99453</th>\n",
       "      <td>I325143</td>\n",
       "      <td>172</td>\n",
       "      <td>Food &amp; Beverage</td>\n",
       "      <td>2</td>\n",
       "      <td>10.46</td>\n",
       "      <td>Cash</td>\n",
       "      <td>22/09/2021</td>\n",
       "      <td>Forum Istanbul</td>\n",
       "    </tr>\n",
       "    <tr>\n",
       "      <th>99454</th>\n",
       "      <td>I824010</td>\n",
       "      <td>425</td>\n",
       "      <td>Food &amp; Beverage</td>\n",
       "      <td>2</td>\n",
       "      <td>10.46</td>\n",
       "      <td>Debit Card</td>\n",
       "      <td>28/03/2021</td>\n",
       "      <td>Metrocity</td>\n",
       "    </tr>\n",
       "    <tr>\n",
       "      <th>99455</th>\n",
       "      <td>I702964</td>\n",
       "      <td>577</td>\n",
       "      <td>Technology</td>\n",
       "      <td>4</td>\n",
       "      <td>4200.00</td>\n",
       "      <td>Cash</td>\n",
       "      <td>16/03/2021</td>\n",
       "      <td>Istinye Park</td>\n",
       "    </tr>\n",
       "    <tr>\n",
       "      <th>99456</th>\n",
       "      <td>I232867</td>\n",
       "      <td>30</td>\n",
       "      <td>Souvenir</td>\n",
       "      <td>3</td>\n",
       "      <td>35.19</td>\n",
       "      <td>Credit Card</td>\n",
       "      <td>15/10/2022</td>\n",
       "      <td>Mall of Istanbul</td>\n",
       "    </tr>\n",
       "  </tbody>\n",
       "</table>\n",
       "<p>99457 rows × 8 columns</p>\n",
       "</div>"
      ],
      "text/plain": [
       "      invoice_no  customer_id         category  quantity    price  \\\n",
       "0        I138884          229         Clothing         5  1500.40   \n",
       "1        I317333         3433            Shoes         3  1800.51   \n",
       "2        I127801          644         Clothing         1   300.08   \n",
       "3        I173702         4900            Shoes         5  3000.85   \n",
       "4        I337046         1089            Books         4    60.60   \n",
       "...          ...          ...              ...       ...      ...   \n",
       "99452    I219422         2344         Souvenir         5    58.65   \n",
       "99453    I325143          172  Food & Beverage         2    10.46   \n",
       "99454    I824010          425  Food & Beverage         2    10.46   \n",
       "99455    I702964          577       Technology         4  4200.00   \n",
       "99456    I232867           30         Souvenir         3    35.19   \n",
       "\n",
       "      payment_method invoice_date     shopping_mall  \n",
       "0        Credit Card     5/8/2022            Kanyon  \n",
       "1         Debit Card   12/12/2021    Forum Istanbul  \n",
       "2               Cash    9/11/2021         Metrocity  \n",
       "3        Credit Card   16/05/2021      Metropol AVM  \n",
       "4               Cash   24/10/2021            Kanyon  \n",
       "...              ...          ...               ...  \n",
       "99452    Credit Card   21/09/2022            Kanyon  \n",
       "99453           Cash   22/09/2021    Forum Istanbul  \n",
       "99454     Debit Card   28/03/2021         Metrocity  \n",
       "99455           Cash   16/03/2021      Istinye Park  \n",
       "99456    Credit Card   15/10/2022  Mall of Istanbul  \n",
       "\n",
       "[99457 rows x 8 columns]"
      ]
     },
     "execution_count": 41,
     "metadata": {},
     "output_type": "execute_result"
    }
   ],
   "source": [
    "inv"
   ]
  },
  {
   "cell_type": "code",
   "execution_count": 42,
   "id": "6feb66be",
   "metadata": {
    "scrolled": false
   },
   "outputs": [
    {
     "data": {
      "text/html": [
       "<div>\n",
       "<style scoped>\n",
       "    .dataframe tbody tr th:only-of-type {\n",
       "        vertical-align: middle;\n",
       "    }\n",
       "\n",
       "    .dataframe tbody tr th {\n",
       "        vertical-align: top;\n",
       "    }\n",
       "\n",
       "    .dataframe thead th {\n",
       "        text-align: right;\n",
       "    }\n",
       "</style>\n",
       "<table border=\"1\" class=\"dataframe\">\n",
       "  <thead>\n",
       "    <tr style=\"text-align: right;\">\n",
       "      <th></th>\n",
       "      <th>age</th>\n",
       "      <th>first_name</th>\n",
       "      <th>gender</th>\n",
       "      <th>customer_id</th>\n",
       "      <th>last_name</th>\n",
       "    </tr>\n",
       "  </thead>\n",
       "  <tbody>\n",
       "    <tr>\n",
       "      <th>0</th>\n",
       "      <td>48.0</td>\n",
       "      <td>Nicholas</td>\n",
       "      <td>M</td>\n",
       "      <td>0</td>\n",
       "      <td>Flores</td>\n",
       "    </tr>\n",
       "    <tr>\n",
       "      <th>1</th>\n",
       "      <td>NaN</td>\n",
       "      <td>Jeffery</td>\n",
       "      <td>M</td>\n",
       "      <td>1</td>\n",
       "      <td>Rowe</td>\n",
       "    </tr>\n",
       "    <tr>\n",
       "      <th>2</th>\n",
       "      <td>57.0</td>\n",
       "      <td>Alexis</td>\n",
       "      <td>F</td>\n",
       "      <td>2</td>\n",
       "      <td>Benton</td>\n",
       "    </tr>\n",
       "    <tr>\n",
       "      <th>3</th>\n",
       "      <td>73.0</td>\n",
       "      <td>Amy</td>\n",
       "      <td>F</td>\n",
       "      <td>3</td>\n",
       "      <td>Johnson</td>\n",
       "    </tr>\n",
       "    <tr>\n",
       "      <th>4</th>\n",
       "      <td>20.0</td>\n",
       "      <td>David</td>\n",
       "      <td>M</td>\n",
       "      <td>4</td>\n",
       "      <td>Moore</td>\n",
       "    </tr>\n",
       "    <tr>\n",
       "      <th>...</th>\n",
       "      <td>...</td>\n",
       "      <td>...</td>\n",
       "      <td>...</td>\n",
       "      <td>...</td>\n",
       "      <td>...</td>\n",
       "    </tr>\n",
       "    <tr>\n",
       "      <th>5186</th>\n",
       "      <td>NaN</td>\n",
       "      <td>Arthur</td>\n",
       "      <td>M</td>\n",
       "      <td>9428</td>\n",
       "      <td>Harris</td>\n",
       "    </tr>\n",
       "    <tr>\n",
       "      <th>5187</th>\n",
       "      <td>NaN</td>\n",
       "      <td>David</td>\n",
       "      <td>M</td>\n",
       "      <td>9494</td>\n",
       "      <td>Roy</td>\n",
       "    </tr>\n",
       "    <tr>\n",
       "      <th>5188</th>\n",
       "      <td>85.0</td>\n",
       "      <td>Thomas</td>\n",
       "      <td>M</td>\n",
       "      <td>10350</td>\n",
       "      <td>Turner</td>\n",
       "    </tr>\n",
       "    <tr>\n",
       "      <th>5189</th>\n",
       "      <td>NaN</td>\n",
       "      <td>April</td>\n",
       "      <td>F</td>\n",
       "      <td>10587</td>\n",
       "      <td>Sanchez</td>\n",
       "    </tr>\n",
       "    <tr>\n",
       "      <th>5190</th>\n",
       "      <td>NaN</td>\n",
       "      <td>Andrew</td>\n",
       "      <td>M</td>\n",
       "      <td>10934</td>\n",
       "      <td>Compton</td>\n",
       "    </tr>\n",
       "  </tbody>\n",
       "</table>\n",
       "<p>5191 rows × 5 columns</p>\n",
       "</div>"
      ],
      "text/plain": [
       "       age first_name gender  customer_id last_name\n",
       "0     48.0   Nicholas      M            0    Flores\n",
       "1      NaN    Jeffery      M            1      Rowe\n",
       "2     57.0     Alexis      F            2    Benton\n",
       "3     73.0        Amy      F            3   Johnson\n",
       "4     20.0      David      M            4     Moore\n",
       "...    ...        ...    ...          ...       ...\n",
       "5186   NaN     Arthur      M         9428    Harris\n",
       "5187   NaN      David      M         9494       Roy\n",
       "5188  85.0     Thomas      M        10350    Turner\n",
       "5189   NaN      April      F        10587   Sanchez\n",
       "5190   NaN     Andrew      M        10934   Compton\n",
       "\n",
       "[5191 rows x 5 columns]"
      ]
     },
     "execution_count": 42,
     "metadata": {},
     "output_type": "execute_result"
    }
   ],
   "source": [
    "cus.rename(columns={\"id\": \"customer_id\"}, inplace=True)\n",
    "cus"
   ]
  },
  {
   "cell_type": "markdown",
   "id": "f4373f4b",
   "metadata": {},
   "source": [
    "# Easy 1\n",
    "### How many unique customers are in the dataset?"
   ]
  },
  {
   "cell_type": "code",
   "execution_count": 43,
   "id": "9558ca42",
   "metadata": {
    "scrolled": true
   },
   "outputs": [
    {
     "data": {
      "text/plain": [
       "5191"
      ]
     },
     "execution_count": 43,
     "metadata": {},
     "output_type": "execute_result"
    }
   ],
   "source": [
    "unique_cus = cus[\"customer_id\"].nunique()\n",
    "unique_cus"
   ]
  },
  {
   "cell_type": "markdown",
   "id": "8ee693ff",
   "metadata": {},
   "source": [
    "# Easy 2\n",
    "### What are the different categories of products available? How many unique categories are there?"
   ]
  },
  {
   "cell_type": "code",
   "execution_count": 44,
   "id": "57d83af1",
   "metadata": {
    "scrolled": true
   },
   "outputs": [
    {
     "name": "stdout",
     "output_type": "stream",
     "text": [
      "['Clothing' 'Shoes' 'Books' 'Cosmetics' 'Food & Beverage' 'Toys'\n",
      " 'Technology' 'Souvenir']\n",
      "8\n"
     ]
    }
   ],
   "source": [
    "cats = pd.unique(inv['category'])\n",
    "print(cats)\n",
    "print(len(cats))"
   ]
  },
  {
   "cell_type": "markdown",
   "id": "eac8ba27",
   "metadata": {},
   "source": [
    "# Easy 3\n",
    "### Which payment method is the most popular? How many times was it used?"
   ]
  },
  {
   "cell_type": "code",
   "execution_count": 45,
   "id": "85d4d310",
   "metadata": {
    "scrolled": false
   },
   "outputs": [
    {
     "data": {
      "text/plain": [
       "Cash    44447\n",
       "Name: payment_method, dtype: int64"
      ]
     },
     "execution_count": 45,
     "metadata": {},
     "output_type": "execute_result"
    }
   ],
   "source": [
    "popular_method = inv[\"payment_method\"].value_counts()\n",
    "popular_method.head(1)"
   ]
  },
  {
   "cell_type": "markdown",
   "id": "9328bc81",
   "metadata": {},
   "source": [
    "# Medium 1\n",
    "### What are the three most popular categories, by total sales?"
   ]
  },
  {
   "cell_type": "code",
   "execution_count": 46,
   "id": "63f6fca5",
   "metadata": {},
   "outputs": [
    {
     "data": {
      "text/plain": [
       "category\n",
       "Clothing      1.139968e+08\n",
       "Shoes         6.655345e+07\n",
       "Technology    5.786235e+07\n",
       "Name: sales, dtype: float64"
      ]
     },
     "execution_count": 46,
     "metadata": {},
     "output_type": "execute_result"
    }
   ],
   "source": [
    "inv[\"sales\"] = inv[\"price\"] * inv[\"quantity\"]\n",
    "inv.groupby(\"category\")[\"sales\"].sum().nlargest(3)"
   ]
  },
  {
   "cell_type": "markdown",
   "id": "1f9463d9",
   "metadata": {},
   "source": [
    "# Medium 2\n",
    "### What are the total sales attributed to customers over the age of 45?"
   ]
  },
  {
   "cell_type": "code",
   "execution_count": 47,
   "id": "5755deae",
   "metadata": {},
   "outputs": [
    {
     "data": {
      "text/plain": [
       "82039768.15"
      ]
     },
     "execution_count": 47,
     "metadata": {},
     "output_type": "execute_result"
    }
   ],
   "source": [
    "id_over_45 = cus[cus[\"age\"]>45][\"customer_id\"]\n",
    "cus_over_45 = inv[inv[\"customer_id\"].isin(id_over_45)]\n",
    "cus_over_45[\"sales\"].sum()"
   ]
  },
  {
   "cell_type": "markdown",
   "id": "3c2b0f99",
   "metadata": {},
   "source": [
    "# Medium 3\n",
    "###  How is the data distributed across different invoice dates? Are there any seasonal trends or patterns? (Use a graph for this.)"
   ]
  },
  {
   "cell_type": "code",
   "execution_count": 49,
   "id": "39a299da",
   "metadata": {},
   "outputs": [
    {
     "data": {
      "image/png": "[encoded data removed]",
      "text/plain": [
       "<Figure size 1000x600 with 1 Axes>"
      ]
     },
     "metadata": {},
     "output_type": "display_data"
    }
   ],
   "source": [
    "inv[\"invoice_date\"] = pd.to_datetime(inv[\"invoice_date\"])\n",
    "\n",
    "inv[\"year\"] = inv[\"invoice_date\"].dt.year\n",
    "inv[\"month\"] = inv[\"invoice_date\"].dt.month\n",
    "\n",
    "sales_distribution = inv.groupby([\"year\", \"month\"])[\"sales\"].sum().reset_index()\n",
    "\n",
    "plt.figure(figsize=(10, 6))\n",
    "for year in sales_distribution[\"year\"].unique():\n",
    "    year_data = sales_distribution[sales_distribution[\"year\"] == year]\n",
    "    plt.plot(year_data[\"month\"], year_data[\"sales\"], label=str(year))\n",
    "plt.xlabel(\"Month\")\n",
    "plt.ylabel(\"Sales\")\n",
    "plt.title(\"Distribution of Sales Over Time\")\n",
    "plt.legend()\n",
    "plt.show()"
   ]
  },
  {
   "cell_type": "markdown",
   "id": "46f5e51a",
   "metadata": {},
   "source": [
    "# Hard 1\n",
    "### Create a pivot table showing the breakdown of sales across these dimensions, in this order: category, decade age range (e.g., 10-19, 20-29, and so forth)."
   ]
  },
  {
   "cell_type": "code",
   "execution_count": 50,
   "id": "a43c9a08",
   "metadata": {},
   "outputs": [
    {
     "data": {
      "text/html": [
       "<div>\n",
       "<style scoped>\n",
       "    .dataframe tbody tr th:only-of-type {\n",
       "        vertical-align: middle;\n",
       "    }\n",
       "\n",
       "    .dataframe tbody tr th {\n",
       "        vertical-align: top;\n",
       "    }\n",
       "\n",
       "    .dataframe thead th {\n",
       "        text-align: right;\n",
       "    }\n",
       "</style>\n",
       "<table border=\"1\" class=\"dataframe\">\n",
       "  <thead>\n",
       "    <tr style=\"text-align: right;\">\n",
       "      <th>decade_age_range</th>\n",
       "      <th>0-9</th>\n",
       "      <th>10-19</th>\n",
       "      <th>20-29</th>\n",
       "      <th>30-39</th>\n",
       "      <th>40-49</th>\n",
       "      <th>50-59</th>\n",
       "      <th>60-69</th>\n",
       "      <th>70-79</th>\n",
       "      <th>80-89</th>\n",
       "      <th>90-99</th>\n",
       "    </tr>\n",
       "    <tr>\n",
       "      <th>category</th>\n",
       "      <th></th>\n",
       "      <th></th>\n",
       "      <th></th>\n",
       "      <th></th>\n",
       "      <th></th>\n",
       "      <th></th>\n",
       "      <th></th>\n",
       "      <th></th>\n",
       "      <th></th>\n",
       "      <th></th>\n",
       "    </tr>\n",
       "  </thead>\n",
       "  <tbody>\n",
       "    <tr>\n",
       "      <th>Books</th>\n",
       "      <td>0.0</td>\n",
       "      <td>19891.95</td>\n",
       "      <td>80128.35</td>\n",
       "      <td>84446.10</td>\n",
       "      <td>82946.25</td>\n",
       "      <td>79537.50</td>\n",
       "      <td>76234.80</td>\n",
       "      <td>56251.95</td>\n",
       "      <td>21103.95</td>\n",
       "      <td>0.0</td>\n",
       "    </tr>\n",
       "    <tr>\n",
       "      <th>Clothing</th>\n",
       "      <td>0.0</td>\n",
       "      <td>3029007.52</td>\n",
       "      <td>10079987.28</td>\n",
       "      <td>11516170.16</td>\n",
       "      <td>10933114.72</td>\n",
       "      <td>10819684.48</td>\n",
       "      <td>10004067.04</td>\n",
       "      <td>7871098.40</td>\n",
       "      <td>3739897.04</td>\n",
       "      <td>0.0</td>\n",
       "    </tr>\n",
       "    <tr>\n",
       "      <th>Cosmetics</th>\n",
       "      <td>0.0</td>\n",
       "      <td>178009.48</td>\n",
       "      <td>594733.82</td>\n",
       "      <td>722406.22</td>\n",
       "      <td>656740.32</td>\n",
       "      <td>621366.12</td>\n",
       "      <td>599735.00</td>\n",
       "      <td>427824.52</td>\n",
       "      <td>214684.80</td>\n",
       "      <td>0.0</td>\n",
       "    </tr>\n",
       "    <tr>\n",
       "      <th>Food &amp; Beverage</th>\n",
       "      <td>0.0</td>\n",
       "      <td>20433.61</td>\n",
       "      <td>74271.23</td>\n",
       "      <td>89187.19</td>\n",
       "      <td>85034.57</td>\n",
       "      <td>77686.42</td>\n",
       "      <td>76127.88</td>\n",
       "      <td>55584.44</td>\n",
       "      <td>25334.12</td>\n",
       "      <td>0.0</td>\n",
       "    </tr>\n",
       "    <tr>\n",
       "      <th>Shoes</th>\n",
       "      <td>0.0</td>\n",
       "      <td>1367187.26</td>\n",
       "      <td>6152942.84</td>\n",
       "      <td>7178633.37</td>\n",
       "      <td>6775319.13</td>\n",
       "      <td>6268175.48</td>\n",
       "      <td>5499357.71</td>\n",
       "      <td>4718536.54</td>\n",
       "      <td>2125201.97</td>\n",
       "      <td>0.0</td>\n",
       "    </tr>\n",
       "    <tr>\n",
       "      <th>Souvenir</th>\n",
       "      <td>0.0</td>\n",
       "      <td>20128.68</td>\n",
       "      <td>53570.91</td>\n",
       "      <td>63705.63</td>\n",
       "      <td>65007.66</td>\n",
       "      <td>57594.30</td>\n",
       "      <td>51482.97</td>\n",
       "      <td>38439.21</td>\n",
       "      <td>20234.25</td>\n",
       "      <td>0.0</td>\n",
       "    </tr>\n",
       "    <tr>\n",
       "      <th>Technology</th>\n",
       "      <td>0.0</td>\n",
       "      <td>1772400.00</td>\n",
       "      <td>5049450.00</td>\n",
       "      <td>6231750.00</td>\n",
       "      <td>5840100.00</td>\n",
       "      <td>4662000.00</td>\n",
       "      <td>5218500.00</td>\n",
       "      <td>3773700.00</td>\n",
       "      <td>1449000.00</td>\n",
       "      <td>0.0</td>\n",
       "    </tr>\n",
       "    <tr>\n",
       "      <th>Toys</th>\n",
       "      <td>0.0</td>\n",
       "      <td>98273.28</td>\n",
       "      <td>380011.52</td>\n",
       "      <td>426460.16</td>\n",
       "      <td>378864.64</td>\n",
       "      <td>357002.24</td>\n",
       "      <td>340659.20</td>\n",
       "      <td>285608.96</td>\n",
       "      <td>126336.00</td>\n",
       "      <td>0.0</td>\n",
       "    </tr>\n",
       "  </tbody>\n",
       "</table>\n",
       "</div>"
      ],
      "text/plain": [
       "decade_age_range  0-9       10-19        20-29        30-39        40-49  \\\n",
       "category                                                                   \n",
       "Books             0.0    19891.95     80128.35     84446.10     82946.25   \n",
       "Clothing          0.0  3029007.52  10079987.28  11516170.16  10933114.72   \n",
       "Cosmetics         0.0   178009.48    594733.82    722406.22    656740.32   \n",
       "Food & Beverage   0.0    20433.61     74271.23     89187.19     85034.57   \n",
       "Shoes             0.0  1367187.26   6152942.84   7178633.37   6775319.13   \n",
       "Souvenir          0.0    20128.68     53570.91     63705.63     65007.66   \n",
       "Technology        0.0  1772400.00   5049450.00   6231750.00   5840100.00   \n",
       "Toys              0.0    98273.28    380011.52    426460.16    378864.64   \n",
       "\n",
       "decade_age_range        50-59        60-69       70-79       80-89  90-99  \n",
       "category                                                                   \n",
       "Books                79537.50     76234.80    56251.95    21103.95    0.0  \n",
       "Clothing          10819684.48  10004067.04  7871098.40  3739897.04    0.0  \n",
       "Cosmetics           621366.12    599735.00   427824.52   214684.80    0.0  \n",
       "Food & Beverage      77686.42     76127.88    55584.44    25334.12    0.0  \n",
       "Shoes              6268175.48   5499357.71  4718536.54  2125201.97    0.0  \n",
       "Souvenir             57594.30     51482.97    38439.21    20234.25    0.0  \n",
       "Technology         4662000.00   5218500.00  3773700.00  1449000.00    0.0  \n",
       "Toys                357002.24    340659.20   285608.96   126336.00    0.0  "
      ]
     },
     "execution_count": 50,
     "metadata": {},
     "output_type": "execute_result"
    }
   ],
   "source": [
    "cus[\"decade_age_range\"] = pd.cut(cus[\"age\"], bins=range(0, 101, 10), labels=[f\"{i}-{i+9}\" for i in range(0, 100, 10)])\n",
    "df = pd.merge(inv, cus, on=\"customer_id\", how=\"inner\")\n",
    "\n",
    "pivot_table = pd.pivot_table(df, values=\"sales\", index=\"category\", columns=\"decade_age_range\", aggfunc=\"sum\")\n",
    "\n",
    "pivot_table"
   ]
  }
 ],
 "metadata": {
  "kernelspec": {
   "display_name": "Python 3 (ipykernel)",
   "language": "python",
   "name": "python3"
  },
  "language_info": {
   "codemirror_mode": {
    "name": "ipython",
    "version": 3
   },
   "file_extension": ".py",
   "mimetype": "text/x-python",
   "name": "python",
   "nbconvert_exporter": "python",
   "pygments_lexer": "ipython3",
   "version": "3.10.9"
  }
 },
 "nbformat": 4,
 "nbformat_minor": 5
}
